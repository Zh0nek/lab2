{
 "cells": [
  {
   "cell_type": "code",
   "execution_count": 1,
   "metadata": {},
   "outputs": [
    {
     "name": "stdout",
     "output_type": "stream",
     "text": [
      "1\n",
      "1\n",
      "1\n",
      "1\n",
      "Yes\n"
     ]
    }
   ],
   "source": [
    "#1 chess:должна вывести да если ладья может быть поражена вторым или нет от первого\n",
    "\n",
    "a = int(input())\n",
    "b = int(input())\n",
    "c = int(input())\n",
    "d = int(input())\n",
    "if a == c or b == d: \n",
    "    print(\"Yes\")\n",
    "else:\n",
    "    print(\"No\")"
   ]
  },
  {
   "cell_type": "code",
   "execution_count": null,
   "metadata": {},
   "outputs": [],
   "source": [
    "#2 да, если ход короля может попасть во вторую клетку или нет из первой клетки.\n",
    "a = int(input())\n",
    "b = int(input())\n",
    "c = int(input())\n",
    "d = int(input())\n",
    "if abs(a - c) <= 1 and abs(b - d) <= 1:\n",
    "    print('Yes')\n",
    "else:\n",
    "    print('No')"
   ]
  },
  {
   "cell_type": "code",
   "execution_count": null,
   "metadata": {},
   "outputs": [],
   "source": [
    "#3 Шахматный слон ходит по диагонали. \n",
    "a = int(input())\n",
    "b = int(input())\n",
    "c = int(input())\n",
    "d = int(input()) \n",
    "if abs(a - c) == abs(b - d):\n",
    "    print('Yes')\n",
    "else:\n",
    "    print('No')"
   ]
  },
  {
   "cell_type": "code",
   "execution_count": null,
   "metadata": {},
   "outputs": [],
   "source": [
    "#4 Шахматная королева ходит по диагонали, горизонтально или вертикально. \n",
    "a = int(input())\n",
    "b = int(input())\n",
    "c = int(input())\n",
    "d = int(input()) \n",
    "if abs(a - c) == abs(b - d) or a == c or b == d:\n",
    "    print('Yes')\n",
    "else:\n",
    "    print('No')"
   ]
  },
  {
   "cell_type": "code",
   "execution_count": null,
   "metadata": {},
   "outputs": [],
   "source": [
    "#5 Шахматная лошадь ходит-две клетки вертикально в любом направлении и одна клетка горизонтально, или наоборот\n",
    "a = int(input())\n",
    "b = int(input())\n",
    "c = int(input())\n",
    "d = int(input()) \n",
    "dx = abs(a - c)\n",
    "dy = abs(b - d)\n",
    "if (dx == 1 and dy == 2) or (dx == 2 and dy == 1):\n",
    "    print('YES')\n",
    "else:\n",
    "    print('NO')"
   ]
  },
  {
   "cell_type": "code",
   "execution_count": null,
   "metadata": {},
   "outputs": [],
   "source": [
    "#6 Плитка шоколада имеет вид прямоугольника, разделенного на nxm ломтиков. Шоколад можно разбить один раз \n",
    "#по прямой на две части. Определите, можно ли отломить от шоколада таким образом ровно K кусочков.\n",
    "n = int(input())\n",
    "m = int(input())\n",
    "k = int(input())\n",
    "if k < m*n and (k%m==0 or k%n==0):\n",
    "    print('YES')\n",
    "else:\n",
    "    print('NO')"
   ]
  },
  {
   "cell_type": "code",
   "execution_count": null,
   "metadata": {},
   "outputs": [],
   "source": [
    "#7 yasha swam.\n",
    "n = int(input())\n",
    "m = int(input())\n",
    "x = int(input())\n",
    "y = int(input())\n",
    "print(min(x, y, min(N, M)-x, max(N, M)-y))"
   ]
  },
  {
   "cell_type": "code",
   "execution_count": 5,
   "metadata": {},
   "outputs": [
    {
     "name": "stdout",
     "output_type": "stream",
     "text": [
      "1\n",
      "2\n",
      "1\n",
      "1 1 2\n"
     ]
    }
   ],
   "source": [
    "#8 non decresing\n",
    "a = int(input())\n",
    "b = int(input())\n",
    "c = int(input())\n",
    "print(min(a,b,c), (a+b+c)-(max(a,b,c) + min(a,b,c)), max(a,b,c))"
   ]
  },
  {
   "cell_type": "code",
   "execution_count": null,
   "metadata": {},
   "outputs": [],
   "source": [
    "#9 \n",
    "a, b, c = int(input()), int(input()), int(input())\n",
    "x, y, z = int(input()), int(input()), int(input())\n",
    "a = min(a,b,c)\n",
    "b = (a+b+c)-sum((max(a,b,c),min(a,b,c)))\n",
    "c = max(x,y,z)\n",
    "x = min(x,y,z)\n",
    "y = (x+y+z)-sum((max(x,y,z),min(x,y,z)))\n",
    "z = max(x,y,z)\n",
    "\n",
    "if a == x and b == y and c == z:\n",
    "    print('Boxes are equal')\n",
    "elif a <= x and b <= y and c <= z:\n",
    "    print('The first box is smaller than the second one')\n",
    "elif a >= x and b >= y and c >= z:\n",
    "    print('The first box is larger than the second one')\n",
    "else:\n",
    "    print('Boxes are incomparable')"
   ]
  },
  {
   "cell_type": "code",
   "execution_count": null,
   "metadata": {},
   "outputs": [],
   "source": [
    "#10\n",
    "n = int(input())\n",
    "i = 1\n",
    "while i ** 2 <= n:\n",
    "    print(i ** 2)\n",
    "    i += 1"
   ]
  },
  {
   "cell_type": "code",
   "execution_count": 3,
   "metadata": {},
   "outputs": [
    {
     "name": "stdout",
     "output_type": "stream",
     "text": [
      "15\n",
      "3\n"
     ]
    }
   ],
   "source": [
    "#11 smallest divider \n",
    "n = int(input())\n",
    "i = 2 \n",
    "while i <= n:\n",
    "    i = i + 1\n",
    "    if n % i == 0:\n",
    "        print(i)\n",
    "        break"
   ]
  },
  {
   "cell_type": "code",
   "execution_count": 2,
   "metadata": {},
   "outputs": [
    {
     "name": "stdout",
     "output_type": "stream",
     "text": [
      "50\n",
      "1 2\n",
      "2 4\n",
      "3 8\n",
      "4 16\n",
      "5 32\n"
     ]
    }
   ],
   "source": [
    "#12 50 , 1 2 4 8 16 32 \n",
    "n = int(input())\n",
    "two_in_power = 2\n",
    "power = 0\n",
    "while two_in_power <= n:\n",
    "    two_in_power *= 2\n",
    "    power += 1\n",
    "    print(power, two_in_power // 2)"
   ]
  },
  {
   "cell_type": "code",
   "execution_count": 3,
   "metadata": {},
   "outputs": [
    {
     "name": "stdout",
     "output_type": "stream",
     "text": [
      "2\n",
      "2\n",
      "3\n",
      "0\n",
      "7\n"
     ]
    }
   ],
   "source": [
    "#13\n",
    "summa = 0\n",
    "a = -1\n",
    "while(a!=0):\n",
    "    a = int(input())\n",
    "    summa += a\n",
    "print(summa)"
   ]
  },
  {
   "cell_type": "code",
   "execution_count": 2,
   "metadata": {},
   "outputs": [
    {
     "name": "stdout",
     "output_type": "stream",
     "text": [
      "2\n",
      "2\n",
      "2\n",
      "0\n",
      "3\n"
     ]
    }
   ],
   "source": [
    "#14\n",
    "maxi, cnt, n = 0, 0, -1\n",
    "while n != 0:\n",
    "    n = int(input())\n",
    "    if n > maxi:\n",
    "        maxi, cnt = n, 1\n",
    "    elif n == maxi:\n",
    "        cnt += 1       \n",
    "print(cnt)"
   ]
  },
  {
   "cell_type": "code",
   "execution_count": 12,
   "metadata": {},
   "outputs": [
    {
     "name": "stdout",
     "output_type": "stream",
     "text": [
      "2\n",
      "-1\n"
     ]
    }
   ],
   "source": [
    "#15 fib F(0) = 0, F(1) = 1, ..., F(n) = F (n-1) + F (n-2). \n",
    "n = int(input())\n",
    "cnt = 0\n",
    "if n == 0:\n",
    "    print(0)\n",
    "else:\n",
    "    a, b = 0, 1\n",
    "    for i in range(2, n ):\n",
    "        a, b = b, a + b\n",
    "        cnt = cnt+1 \n",
    "    if cnt == 0 :\n",
    "        print(-1)\n",
    "    else:\n",
    "        pront(cnt)"
   ]
  },
  {
   "cell_type": "code",
   "execution_count": 38,
   "metadata": {},
   "outputs": [
    {
     "name": "stdout",
     "output_type": "stream",
     "text": [
      "1\n",
      "2\n",
      "1\n",
      "2\n",
      "1\n",
      "0\n",
      "2\n"
     ]
    }
   ],
   "source": [
    "#16\n",
    "cnt =  0\n",
    "list1 = []\n",
    "while True:\n",
    "    c = int(input())\n",
    "    list1.append(c)\n",
    "    if c == 0:\n",
    "        break\n",
    "for i in range (1,len(list1)-1):\n",
    "    if(list1[i] > list1[i-1] and list1[i] > list1[i+1]): \n",
    "        cnt = cnt + 1\n",
    "print(cnt)"
   ]
  },
  {
   "cell_type": "code",
   "execution_count": 5,
   "metadata": {},
   "outputs": [
    {
     "name": "stdout",
     "output_type": "stream",
     "text": [
      "6\n",
      "1 \n",
      "2\n",
      "2\n",
      "3\n",
      "3\n",
      "3\n",
      "3\n"
     ]
    }
   ],
   "source": [
    "#17\n",
    "l = [int(i) for i in input().split()]\n",
    "cnt = 1\n",
    "for i in range(0, len(l) - 1):\n",
    "    if l[i] != l[i + 1]:\n",
    "        cnt += 1\n",
    "print(cnt)"
   ]
  },
  {
   "cell_type": "code",
   "execution_count": 7,
   "metadata": {},
   "outputs": [
    {
     "name": "stdout",
     "output_type": "stream",
     "text": [
      "5\n",
      "1 2 3 4 5\n",
      "[5, 1, 2, 3, 4]\n"
     ]
    }
   ],
   "source": [
    "#18 сдвиг вправо \n",
    "n = int(input())\n",
    "l = [int(i) for i in input().split()]\n",
    "last = l[n - 1]\n",
    "for i in range(n - 1, 0, -1):\n",
    "    temp = l[i - 1]\n",
    "    l[i - 1] = l[i]\n",
    "    l[i] = temp\n",
    "print(l)"
   ]
  },
  {
   "cell_type": "code",
   "execution_count": 3,
   "metadata": {},
   "outputs": [
    {
     "name": "stdout",
     "output_type": "stream",
     "text": [
      "5\n",
      "1 2 3 2 3\n",
      "2\n"
     ]
    }
   ],
   "source": [
    "#19 how many pairs of elements\n",
    "k = int(input()) \n",
    "l = [int(n) for n in input().split()]\n",
    "cnt = 0\n",
    "for i in range(len(l)):\n",
    "    for j in range(i + 1, len(l)):\n",
    "        if l[i] == l[j]:\n",
    "            cnt += 1\n",
    "print(cnt) "
   ]
  },
  {
   "cell_type": "code",
   "execution_count": 5,
   "metadata": {},
   "outputs": [
    {
     "name": "stdout",
     "output_type": "stream",
     "text": [
      "10 3\n",
      "8 10\n",
      "2 5\n",
      "3 6\n",
      "I.....I...\n"
     ]
    }
   ],
   "source": [
    "#20\n",
    "n, k = [int(s) for s in input().split()]\n",
    "bahn = ['I'] * n\n",
    "for i in range(k):\n",
    "    left, right = [int(s) for s in input().split()]\n",
    "    for j in range(left - 1, right):\n",
    "        bahn[j] = '.'\n",
    "print(''.join(bahn))"
   ]
  }
 ],
 "metadata": {
  "kernelspec": {
   "display_name": "Python 3",
   "language": "python",
   "name": "python3"
  },
  "language_info": {
   "codemirror_mode": {
    "name": "ipython",
    "version": 3
   },
   "file_extension": ".py",
   "mimetype": "text/x-python",
   "name": "python",
   "nbconvert_exporter": "python",
   "pygments_lexer": "ipython3",
   "version": "3.8.3"
  }
 },
 "nbformat": 4,
 "nbformat_minor": 4
}
